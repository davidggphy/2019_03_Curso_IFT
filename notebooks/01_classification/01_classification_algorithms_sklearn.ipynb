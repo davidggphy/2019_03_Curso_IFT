{
 "cells": [
  {
   "cell_type": "markdown",
   "metadata": {},
   "source": [
    "# Classification algorithms with sklearn "
   ]
  },
  {
   "cell_type": "code",
   "execution_count": null,
   "metadata": {
    "ExecuteTime": {
     "end_time": "2019-03-21T18:56:41.421346Z",
     "start_time": "2019-03-21T18:56:35.869855Z"
    }
   },
   "outputs": [],
   "source": [
    "%load_ext autoreload\n",
    "%autoreload 2\n",
    "import os\n",
    "# %matplotlib notebook\n",
    "%matplotlib inline\n",
    "import numpy as np\n",
    "import matplotlib.pyplot as plt\n",
    "import seaborn as sns\n",
    "sns.set()\n",
    "plt.style.use('seaborn-whitegrid')\n",
    "import sklearn\n",
    "from sklearn.model_selection import train_test_split\n",
    "from sklearn import metrics"
   ]
  },
  {
   "cell_type": "code",
   "execution_count": null,
   "metadata": {
    "ExecuteTime": {
     "end_time": "2019-03-21T18:56:45.154180Z",
     "start_time": "2019-03-21T18:56:45.108266Z"
    }
   },
   "outputs": [],
   "source": [
    "##### GOOGLE COLAB ######\n",
    "if not os.path.exists('./plot_metrics.py'):\n",
    "    ! wget https://raw.githubusercontent.com/davidggphy/2019_03_Curso_IFT/master/notebooks/01_classification/plot_metrics.py\n",
    "if not os.path.exists('./img'):\n",
    "    ! mkdir img\n",
    "if not os.path.exists('./img/precisionrecall.png'):\n",
    "    ! wget https://github.com/davidggphy/2019_03_Curso_IFT/raw/master/notebooks/01_classification/img/precisionrecall.png\n",
    "    ! mv precisionrecall.png img/precisionrecall.png"
   ]
  },
  {
   "cell_type": "code",
   "execution_count": null,
   "metadata": {
    "ExecuteTime": {
     "end_time": "2019-03-21T18:56:45.518117Z",
     "start_time": "2019-03-21T18:56:45.483292Z"
    }
   },
   "outputs": [],
   "source": [
    "from plot_metrics import plot_confusion_matrix\n",
    "from plot_metrics import plot_roc_curve\n",
    "from plot_metrics import plot_probability_map"
   ]
  },
  {
   "cell_type": "markdown",
   "metadata": {
    "heading_collapsed": true
   },
   "source": [
    "# Binary case"
   ]
  },
  {
   "cell_type": "markdown",
   "metadata": {
    "heading_collapsed": true,
    "hidden": true
   },
   "source": [
    "## Metrics for a binary classification problem\n",
    "\n",
    "More info in:\n",
    "\n",
    "https://en.wikipedia.org/wiki/Receiver_operating_characteristic"
   ]
  },
  {
   "cell_type": "code",
   "execution_count": null,
   "metadata": {
    "ExecuteTime": {
     "end_time": "2019-03-19T23:21:10.902679Z",
     "start_time": "2019-03-19T23:21:10.763814Z"
    },
    "hidden": true,
    "scrolled": true
   },
   "outputs": [],
   "source": [
    "%%html\n",
    "<img src=\"img/precisionrecall.png\" width='400' height='100'>"
   ]
  },
  {
   "cell_type": "markdown",
   "metadata": {
    "heading_collapsed": true,
    "hidden": true
   },
   "source": [
    "## Creating the dataset"
   ]
  },
  {
   "cell_type": "code",
   "execution_count": null,
   "metadata": {
    "ExecuteTime": {
     "end_time": "2019-03-20T11:29:15.181165Z",
     "start_time": "2019-03-20T11:29:15.120789Z"
    },
    "hidden": true,
    "scrolled": true
   },
   "outputs": [],
   "source": [
    "dic_data_A = {'n': 100 ,'mean': (0,2), 'cov' :((1,0),(0,2)), 'y' : 0 }  # RED\n",
    "dic_data_B = {'n': 120 ,'mean': (0,0), 'cov' :((3,0),(0,1)), 'y' : 1 }  # BLUE\n",
    "dic_data = {'A': dic_data_A, 'B' : dic_data_B }\n",
    "\n",
    "# We sample the points with numpy.random\n",
    "np.random.seed(1)\n",
    "samples = {key : np.random.multivariate_normal(dic['mean'], np.array(dic['cov']), dic['n']) \n",
    "           for key,dic in dic_data.items()}\n",
    "     \n",
    "X = np.concatenate(tuple(samples[key] for key in dic_data.keys() ),axis=0)\n",
    "Y = np.concatenate(tuple(dic['y']* np.ones(dic['n'], dtype='int') \n",
    "                         for key,dic in dic_data.items() ), axis=0)\n",
    "\n",
    "# Train Val Test Split. 70% / 15% / 15%.\n",
    "X_train,X_val,Y_train, Y_val = train_test_split(X,Y,test_size = 0.3)\n",
    "X_val,X_test,Y_val, Y_test = train_test_split(X_val,Y_val,test_size = 0.5)\n",
    "\n",
    "# We transform into coordinates in the plane to make plotting easier.\n",
    "colors = [\n",
    "    \"#%02x%02x%02x\" % (int(r), int(g), int(b)) for r, g ,b  in 150*np.eye(3)[[0,2,1]][np.array(Y_train,dtype='int')]\n",
    "]\n",
    "colors_val = [\n",
    "    \"#%02x%02x%02x\" % (int(r), int(g), int(b)) for r, g ,b  in 150*np.eye(3)[[0,2,1]][np.array(Y_val,dtype='int')]\n",
    "]\n",
    "colors_test = [\n",
    "    \"#%02x%02x%02x\" % (int(r), int(g), int(b)) for r, g ,b  in 150*np.eye(3)[[0,2,1]][np.array(Y_test,dtype='int')]\n",
    "]\n",
    "x0_range = (X[:,0].min()-1,X[:,0].max()+1)\n",
    "x1_range = (X[:,1].min()-1,X[:,1].max()+1)\n",
    "x0 = X_train[:,0] \n",
    "x1 = X_train[:,1] \n",
    "x0_val = X_val[:,0] \n",
    "x1_val = X_val[:,1] \n",
    "x0_test = X_test[:,0] \n",
    "x1_test = X_test[:,1] "
   ]
  },
  {
   "cell_type": "code",
   "execution_count": null,
   "metadata": {
    "ExecuteTime": {
     "end_time": "2019-03-20T11:29:18.754976Z",
     "start_time": "2019-03-20T11:29:18.483312Z"
    },
    "hidden": true
   },
   "outputs": [],
   "source": [
    "fig = plt.figure(figsize=(5,5))\n",
    "ax = fig.add_subplot(111)\n",
    "ax.set_xlim(x0_range)\n",
    "ax.set_ylim(x1_range)\n",
    "# TRAIN\n",
    "ax.scatter(x0, x1, s = 17, \n",
    "          alpha=1, c=colors )\n",
    "# VALIDATION\n",
    "ax.scatter(x0_val, x1_val, s = 17, \n",
    "          alpha=0.3, c=colors_val )\n",
    "\n",
    "ax.figure.canvas.draw()"
   ]
  },
  {
   "cell_type": "markdown",
   "metadata": {
    "heading_collapsed": true,
    "hidden": true
   },
   "source": [
    "## Logistic Regression"
   ]
  },
  {
   "cell_type": "code",
   "execution_count": null,
   "metadata": {
    "ExecuteTime": {
     "end_time": "2019-03-20T11:35:56.562180Z",
     "start_time": "2019-03-20T11:35:56.523962Z"
    },
    "hidden": true
   },
   "outputs": [],
   "source": [
    "from sklearn.linear_model import LogisticRegression\n",
    "clf = LogisticRegression(random_state=0, solver='lbfgs',multi_class='multinomial').fit(X_train, Y_train)\n",
    "# print('TRAIN SET\\n---------\\n',sklearn.metrics.classification_report(Y_train,clf.predict(X_train)))\n",
    "# print('TEST SET\\n--------\\n',sklearn.metrics.classification_report(Y_val,clf.predict(X_val)))"
   ]
  },
  {
   "cell_type": "code",
   "execution_count": null,
   "metadata": {
    "ExecuteTime": {
     "end_time": "2019-03-20T11:35:56.984679Z",
     "start_time": "2019-03-20T11:35:56.943391Z"
    },
    "hidden": true
   },
   "outputs": [],
   "source": [
    "Y_val_probs = clf.predict_proba(X_val)[:,1]\n",
    "Y_val_pred = clf.predict(X_val)"
   ]
  },
  {
   "cell_type": "code",
   "execution_count": null,
   "metadata": {
    "ExecuteTime": {
     "end_time": "2019-03-20T11:35:58.303228Z",
     "start_time": "2019-03-20T11:35:57.679460Z"
    },
    "hidden": true
   },
   "outputs": [],
   "source": [
    "fig, ax = plt.subplots(figsize=(12, 6))\n",
    "plot_probability_map(clf,fig,ax,x0_range,x1_range)\n",
    "ax.scatter(X_val[:,0], X_val[:, 1], c=Y_val[:], s=50,\n",
    "             cmap=\"RdBu\", vmin=-.2, vmax=1.2,\n",
    "             edgecolor=\"white\", linewidth=1)\n",
    "\n",
    "ax.figure.canvas.draw()"
   ]
  },
  {
   "cell_type": "code",
   "execution_count": null,
   "metadata": {
    "ExecuteTime": {
     "end_time": "2019-03-20T11:36:32.176428Z",
     "start_time": "2019-03-20T11:36:31.832195Z"
    },
    "hidden": true,
    "scrolled": false
   },
   "outputs": [],
   "source": [
    "confusion_matrix = metrics.confusion_matrix(Y_val,Y_val_pred)\n",
    "plot_confusion_matrix(confusion_matrix,target_names=['RED','BLUE'],normalize=False, cmap=plt.cm.Greens,figsize=(8,8))"
   ]
  },
  {
   "cell_type": "code",
   "execution_count": null,
   "metadata": {
    "ExecuteTime": {
     "end_time": "2019-03-20T11:37:36.223312Z",
     "start_time": "2019-03-20T11:37:35.994364Z"
    },
    "hidden": true
   },
   "outputs": [],
   "source": [
    "plot_roc_curve(Y_val,Y_val_probs)"
   ]
  },
  {
   "cell_type": "markdown",
   "metadata": {
    "heading_collapsed": true,
    "hidden": true
   },
   "source": [
    "## Decission Tree"
   ]
  },
  {
   "cell_type": "code",
   "execution_count": null,
   "metadata": {
    "ExecuteTime": {
     "end_time": "2019-03-20T11:46:06.735837Z",
     "start_time": "2019-03-20T11:46:06.700944Z"
    },
    "hidden": true
   },
   "outputs": [],
   "source": [
    "from sklearn.tree import DecisionTreeClassifier\n",
    "clf = DecisionTreeClassifier().fit(X_train, Y_train)"
   ]
  },
  {
   "cell_type": "code",
   "execution_count": null,
   "metadata": {
    "ExecuteTime": {
     "end_time": "2019-03-20T11:46:07.800272Z",
     "start_time": "2019-03-20T11:46:07.766207Z"
    },
    "hidden": true
   },
   "outputs": [],
   "source": [
    "Y_val_probs = clf.predict_proba(X_val)[:,1]\n",
    "Y_val_pred = clf.predict(X_val)"
   ]
  },
  {
   "cell_type": "code",
   "execution_count": null,
   "metadata": {
    "ExecuteTime": {
     "end_time": "2019-03-20T11:46:08.732851Z",
     "start_time": "2019-03-20T11:46:08.216081Z"
    },
    "hidden": true
   },
   "outputs": [],
   "source": [
    "fig, ax = plt.subplots(figsize=(12, 6))\n",
    "plot_probability_map(clf,fig,ax,x0_range,x1_range)\n",
    "ax.scatter(X_val[:,0], X_val[:, 1], c=Y_val[:], s=50,\n",
    "             cmap=\"RdBu\", vmin=-.2, vmax=1.2,\n",
    "             edgecolor=\"white\", linewidth=1)\n",
    "\n",
    "ax.figure.canvas.draw()"
   ]
  },
  {
   "cell_type": "code",
   "execution_count": null,
   "metadata": {
    "ExecuteTime": {
     "end_time": "2019-03-20T11:41:41.839264Z",
     "start_time": "2019-03-20T11:41:41.564430Z"
    },
    "hidden": true,
    "scrolled": true
   },
   "outputs": [],
   "source": [
    "confusion_matrix = metrics.confusion_matrix(Y_val,Y_val_pred)\n",
    "plot_confusion_matrix(confusion_matrix,target_names=['RED','BLUE'],normalize=False, cmap=plt.cm.Greens,figsize=(6,5))"
   ]
  },
  {
   "cell_type": "code",
   "execution_count": null,
   "metadata": {
    "ExecuteTime": {
     "end_time": "2019-03-20T11:41:42.424837Z",
     "start_time": "2019-03-20T11:41:42.202461Z"
    },
    "hidden": true
   },
   "outputs": [],
   "source": [
    "plot_roc_curve(Y_val,Y_val_probs)"
   ]
  },
  {
   "cell_type": "markdown",
   "metadata": {
    "heading_collapsed": true,
    "hidden": true
   },
   "source": [
    "## Random Forest"
   ]
  },
  {
   "cell_type": "code",
   "execution_count": null,
   "metadata": {
    "ExecuteTime": {
     "end_time": "2019-03-20T11:49:42.054006Z",
     "start_time": "2019-03-20T11:49:42.016239Z"
    },
    "hidden": true
   },
   "outputs": [],
   "source": [
    "from sklearn.ensemble import RandomForestClassifier\n",
    "clf = RandomForestClassifier(n_estimators=5).fit(X_train, Y_train)\n",
    "Y_val_probs = clf.predict_proba(X_val)[:,1]\n",
    "Y_val_pred = clf.predict(X_val)"
   ]
  },
  {
   "cell_type": "code",
   "execution_count": null,
   "metadata": {
    "ExecuteTime": {
     "end_time": "2019-03-20T11:49:43.073035Z",
     "start_time": "2019-03-20T11:49:42.324135Z"
    },
    "hidden": true
   },
   "outputs": [],
   "source": [
    "fig, ax = plt.subplots(figsize=(12, 6))\n",
    "plot_probability_map(clf,fig,ax,x0_range,x1_range)\n",
    "ax.scatter(X_val[:,0], X_val[:, 1], c=Y_val[:], s=50,\n",
    "             cmap=\"RdBu\", vmin=-.2, vmax=1.2,\n",
    "             edgecolor=\"white\", linewidth=1)\n",
    "\n",
    "ax.figure.canvas.draw()"
   ]
  },
  {
   "cell_type": "code",
   "execution_count": null,
   "metadata": {
    "ExecuteTime": {
     "end_time": "2019-03-20T11:49:46.462901Z",
     "start_time": "2019-03-20T11:49:46.192112Z"
    },
    "hidden": true,
    "scrolled": true
   },
   "outputs": [],
   "source": [
    "confusion_matrix = metrics.confusion_matrix(Y_val,Y_val_pred)\n",
    "plot_confusion_matrix(confusion_matrix,target_names=['RED','BLUE'],normalize=False, cmap=plt.cm.Greens,figsize=(6,5))"
   ]
  },
  {
   "cell_type": "code",
   "execution_count": null,
   "metadata": {
    "ExecuteTime": {
     "end_time": "2019-03-20T11:49:48.410890Z",
     "start_time": "2019-03-20T11:49:48.183978Z"
    },
    "hidden": true
   },
   "outputs": [],
   "source": [
    "plot_roc_curve(Y_val,Y_val_probs)"
   ]
  },
  {
   "cell_type": "markdown",
   "metadata": {
    "heading_collapsed": true,
    "hidden": true
   },
   "source": [
    "## Adaboost"
   ]
  },
  {
   "cell_type": "code",
   "execution_count": null,
   "metadata": {
    "ExecuteTime": {
     "end_time": "2019-03-20T11:50:24.149515Z",
     "start_time": "2019-03-20T11:50:24.057640Z"
    },
    "hidden": true
   },
   "outputs": [],
   "source": [
    "from sklearn.ensemble import AdaBoostClassifier\n",
    "# from sklearn.ensemble import ExtraTreesClassifier\n",
    "clf = AdaBoostClassifier(n_estimators=50).fit(X_train, Y_train)\n",
    "Y_val_probs = clf.predict_proba(X_val)[:,1]\n",
    "Y_val_pred = clf.predict(X_val)"
   ]
  },
  {
   "cell_type": "code",
   "execution_count": null,
   "metadata": {
    "ExecuteTime": {
     "end_time": "2019-03-20T11:51:27.616789Z",
     "start_time": "2019-03-20T11:51:27.105995Z"
    },
    "hidden": true
   },
   "outputs": [],
   "source": [
    "fig, ax = plt.subplots(figsize=(12, 6))\n",
    "plot_probability_map(clf,fig,ax,x0_range,x1_range)\n",
    "ax.scatter(X_val[:,0], X_val[:, 1], c=Y_val[:], s=50,\n",
    "             cmap=\"RdBu\", vmin=-.2, vmax=1.2,\n",
    "             edgecolor=\"white\", linewidth=1)\n",
    "\n",
    "ax.figure.canvas.draw()"
   ]
  },
  {
   "cell_type": "code",
   "execution_count": null,
   "metadata": {
    "ExecuteTime": {
     "end_time": "2019-03-20T11:51:30.438574Z",
     "start_time": "2019-03-20T11:51:30.105625Z"
    },
    "hidden": true,
    "scrolled": true
   },
   "outputs": [],
   "source": [
    "confusion_matrix = metrics.confusion_matrix(Y_val,Y_val_pred)\n",
    "plot_confusion_matrix(confusion_matrix,target_names=['RED','BLUE'],normalize=False, cmap=plt.cm.Greens,figsize=(6,5))"
   ]
  },
  {
   "cell_type": "code",
   "execution_count": null,
   "metadata": {
    "ExecuteTime": {
     "end_time": "2019-03-20T11:51:32.436260Z",
     "start_time": "2019-03-20T11:51:32.207054Z"
    },
    "hidden": true
   },
   "outputs": [],
   "source": [
    "plot_roc_curve(Y_val,Y_val_probs)"
   ]
  },
  {
   "cell_type": "markdown",
   "metadata": {
    "heading_collapsed": true,
    "hidden": true
   },
   "source": [
    "## K-nearest neighbors KNN"
   ]
  },
  {
   "cell_type": "code",
   "execution_count": null,
   "metadata": {
    "ExecuteTime": {
     "end_time": "2019-03-20T11:53:53.176003Z",
     "start_time": "2019-03-20T11:53:53.138412Z"
    },
    "hidden": true
   },
   "outputs": [],
   "source": [
    "from sklearn.neighbors import KNeighborsClassifier\n",
    "clf = KNeighborsClassifier(n_neighbors = 8, weights='distance').fit(X_train, Y_train)\n",
    "Y_val_probs = clf.predict_proba(X_val)[:,1]\n",
    "Y_val_pred = clf.predict(X_val)"
   ]
  },
  {
   "cell_type": "code",
   "execution_count": null,
   "metadata": {
    "ExecuteTime": {
     "end_time": "2019-03-20T11:53:54.082024Z",
     "start_time": "2019-03-20T11:53:53.522592Z"
    },
    "hidden": true
   },
   "outputs": [],
   "source": [
    "fig, ax = plt.subplots(figsize=(12, 6))\n",
    "plot_probability_map(clf,fig,ax,x0_range,x1_range)\n",
    "ax.scatter(X_val[:,0], X_val[:, 1], c=Y_val[:], s=50,\n",
    "             cmap=\"RdBu\", vmin=-.2, vmax=1.2,\n",
    "             edgecolor=\"white\", linewidth=1)\n",
    "\n",
    "ax.figure.canvas.draw()"
   ]
  },
  {
   "cell_type": "code",
   "execution_count": null,
   "metadata": {
    "ExecuteTime": {
     "end_time": "2019-03-20T11:54:01.602968Z",
     "start_time": "2019-03-20T11:54:01.323658Z"
    },
    "hidden": true,
    "scrolled": true
   },
   "outputs": [],
   "source": [
    "confusion_matrix = metrics.confusion_matrix(Y_val,Y_val_pred)\n",
    "plot_confusion_matrix(confusion_matrix,target_names=['RED','BLUE'],normalize=False, cmap=plt.cm.Greens,figsize=(6,5))"
   ]
  },
  {
   "cell_type": "code",
   "execution_count": null,
   "metadata": {
    "ExecuteTime": {
     "end_time": "2019-03-20T11:54:40.869757Z",
     "start_time": "2019-03-20T11:54:40.598346Z"
    },
    "hidden": true
   },
   "outputs": [],
   "source": [
    "plot_roc_curve(Y_val,Y_val_probs)"
   ]
  },
  {
   "cell_type": "markdown",
   "metadata": {
    "heading_collapsed": true,
    "hidden": true
   },
   "source": [
    "## Naive Bayes"
   ]
  },
  {
   "cell_type": "code",
   "execution_count": null,
   "metadata": {
    "ExecuteTime": {
     "end_time": "2019-03-20T11:55:34.146567Z",
     "start_time": "2019-03-20T11:55:34.113047Z"
    },
    "hidden": true
   },
   "outputs": [],
   "source": [
    "from sklearn import naive_bayes\n",
    "clf = naive_bayes.GaussianNB().fit(X_train, Y_train)\n",
    "Y_val_probs = clf.predict_proba(X_val)[:,1]\n",
    "Y_val_pred = clf.predict(X_val)"
   ]
  },
  {
   "cell_type": "code",
   "execution_count": null,
   "metadata": {
    "ExecuteTime": {
     "end_time": "2019-03-20T11:55:35.220695Z",
     "start_time": "2019-03-20T11:55:34.679625Z"
    },
    "hidden": true
   },
   "outputs": [],
   "source": [
    "fig, ax = plt.subplots(figsize=(12, 6))\n",
    "plot_probability_map(clf,fig,ax,x0_range,x1_range)\n",
    "ax.scatter(X_val[:,0], X_val[:, 1], c=Y_val[:], s=50,\n",
    "             cmap=\"RdBu\", vmin=-.2, vmax=1.2,\n",
    "             edgecolor=\"white\", linewidth=1)\n",
    "\n",
    "ax.figure.canvas.draw()"
   ]
  },
  {
   "cell_type": "code",
   "execution_count": null,
   "metadata": {
    "ExecuteTime": {
     "end_time": "2019-03-20T11:55:41.590148Z",
     "start_time": "2019-03-20T11:55:41.308034Z"
    },
    "hidden": true,
    "scrolled": false
   },
   "outputs": [],
   "source": [
    "confusion_matrix = metrics.confusion_matrix(Y_val,Y_val_pred)\n",
    "plot_confusion_matrix(confusion_matrix,target_names=['RED','BLUE'],normalize=False, cmap=plt.cm.Greens,figsize=(6,5))"
   ]
  },
  {
   "cell_type": "code",
   "execution_count": null,
   "metadata": {
    "ExecuteTime": {
     "end_time": "2019-03-20T11:55:41.973790Z",
     "start_time": "2019-03-20T11:55:41.712105Z"
    },
    "hidden": true
   },
   "outputs": [],
   "source": [
    "plot_roc_curve(Y_val,Y_val_probs)"
   ]
  },
  {
   "cell_type": "markdown",
   "metadata": {
    "ExecuteTime": {
     "end_time": "2019-03-13T02:14:51.125177Z",
     "start_time": "2019-03-13T02:14:51.033886Z"
    },
    "heading_collapsed": true,
    "hidden": true
   },
   "source": [
    "## EXERCISE\n",
    "\n",
    "We have not normalized / standarized the data. Check how the metrics change if you do so. Implement a proper preprocessing and reapply the classifiers.\n",
    "\n",
    "Hint: \n",
    "\n",
    "https://scikit-learn.org/stable/modules/classes.html#module-sklearn.preprocessing\n",
    "\n",
    "Hint 2:\n",
    "\n",
    "https://scikit-learn.org/stable/modules/generated/sklearn.preprocessing.StandardScaler.html"
   ]
  },
  {
   "cell_type": "markdown",
   "metadata": {
    "ExecuteTime": {
     "end_time": "2019-03-13T02:13:03.675161Z",
     "start_time": "2019-03-13T02:13:03.601146Z"
    },
    "heading_collapsed": true,
    "hidden": true
   },
   "source": [
    "## EXERCISE\n",
    "\n",
    "Try, at least for one algorithm, to tune the hyperparameters to maximize the area under the ROC curve (AUC score).\n",
    "\n",
    "Why do we have a test set that we haven't used?"
   ]
  },
  {
   "cell_type": "markdown",
   "metadata": {
    "hidden": true
   },
   "source": [
    "## EXERCISE\n",
    "\n",
    "Try the same examples with an unbalance dataset. For example, set:\n",
    "`npointsA = 100`\n",
    "`npointsB = 900`\n",
    "\n",
    "What happens to each classifier. What do you observe in the confusion matrix? Are all the classifiers affected in the same way?\n",
    "\n",
    "What would you do if it is more important to correctly classify class A than B?\n",
    "\n",
    "What is the minimal accuracy you would expect for a naive classifier?"
   ]
  },
  {
   "cell_type": "markdown",
   "metadata": {
    "heading_collapsed": true,
    "hidden": true
   },
   "source": [
    "## EXERCISE\n",
    "\n",
    "With the next dataset, that it is clearly non-linearly separable, what methods do you think are more appropriate to classify it? \n",
    "\n",
    "Do you have any idea to can apply logistic regression to it?\n",
    "\n",
    "Try different methods and compare the metrics."
   ]
  },
  {
   "cell_type": "code",
   "execution_count": null,
   "metadata": {
    "ExecuteTime": {
     "end_time": "2019-03-21T19:24:48.115609Z",
     "start_time": "2019-03-21T19:24:47.860625Z"
    },
    "hidden": true
   },
   "outputs": [],
   "source": [
    "from utils import generate_concentric_dataset\n",
    "X, Y = generate_concentric_dataset(250)\n",
    "x0_range = (X[:,0].min()-1,X[:,0].max()+1)\n",
    "x1_range = (X[:,1].min()-1,X[:,1].max()+1)\n",
    "ax = plt.axes()\n",
    "ax.set_xlim(x0_range)\n",
    "ax.set_ylim(x1_range)\n",
    "sns.scatterplot(x= X[:,0], y=X[:,1],hue=Y,palette=['red','blue'])\n",
    "ax.set_aspect('equal')"
   ]
  },
  {
   "cell_type": "markdown",
   "metadata": {},
   "source": [
    "# Three classes"
   ]
  },
  {
   "cell_type": "code",
   "execution_count": null,
   "metadata": {
    "ExecuteTime": {
     "end_time": "2019-03-20T12:00:40.235893Z",
     "start_time": "2019-03-20T12:00:40.194770Z"
    }
   },
   "outputs": [],
   "source": [
    "dic_data_A = {'n': 100 ,'mean': (0,2), 'cov' :((1,0),(0,2)), 'y' : 0 }  # RED\n",
    "dic_data_B = {'n': 50 ,'mean': (-2,0), 'cov' :((3,0),(0,1)), 'y' : 1 }  # GREEN\n",
    "dic_data_C = {'n': 50 ,'mean': (2,0), 'cov' :((3,0),(0,1)), 'y' : 2 }  # BLUE\n",
    "dic_data = {'A': dic_data_A, 'B' : dic_data_B , 'C' : dic_data_C}\n",
    " \n",
    "# We sample the points with numpy.random\n",
    "np.random.seed(1)\n",
    "samples = {key : np.random.multivariate_normal(dic['mean'], np.array(dic['cov']), dic['n']) \n",
    "           for key,dic in dic_data.items()}\n",
    "     \n",
    "X = np.concatenate(tuple(samples[key] for key in dic_data.keys() ),axis=0)\n",
    "Y = np.concatenate(tuple(dic['y']* np.ones(dic['n'], dtype='int') \n",
    "                         for key,dic in dic_data.items() ), axis=0)\n",
    "\n",
    "\n",
    "\n",
    "# Train Test Split. 80% / 20%.\n",
    "X_train,X_test,Y_train, Y_test = train_test_split(X,Y,test_size = 0.2)\n",
    "\n",
    "\n",
    "# We transform into coordinates in the plane to make plotting easier.\n",
    "colors = [\n",
    "    \"#%02x%02x%02x\" % (int(r), int(g), int(b)) for r, g ,b  in 200*np.eye(3)[np.array(Y_train,dtype='int')]\n",
    "]\n",
    "colors_test = [\n",
    "    \"#%02x%02x%02x\" % (int(r), int(g), int(b)) for r, g ,b  in 200*np.eye(3)[np.array(Y_test,dtype='int')]\n",
    "]\n",
    "x0_range = (X[:,0].min()-1,X[:,0].max()+1)\n",
    "x1_range = (X[:,1].min()-1,X[:,1].max()+1)\n",
    "x0 = X_train[:,0] \n",
    "x1 = X_train[:,1] \n",
    "x0_test = X_test[:,0] \n",
    "x1_test = X_test[:,1] "
   ]
  },
  {
   "cell_type": "code",
   "execution_count": null,
   "metadata": {
    "ExecuteTime": {
     "end_time": "2019-03-20T12:00:40.976057Z",
     "start_time": "2019-03-20T12:00:40.748800Z"
    }
   },
   "outputs": [],
   "source": [
    "fig = plt.figure(figsize=(5,5))\n",
    "ax = fig.add_subplot(111)\n",
    "ax.set_xlim(x0_range)\n",
    "ax.set_ylim(x1_range)\n",
    "# TRAIN\n",
    "ax.scatter(x0, x1, s = 17, alpha=1, c=colors )\n",
    "# TEST\n",
    "ax.scatter(x0_test, x1_test, s = 17, alpha=0.3, c=colors_test )\n",
    "\n",
    "ax.figure.canvas.draw()"
   ]
  },
  {
   "cell_type": "markdown",
   "metadata": {},
   "source": [
    "## Logistic regression (one versus rest)"
   ]
  },
  {
   "cell_type": "code",
   "execution_count": null,
   "metadata": {
    "ExecuteTime": {
     "end_time": "2019-03-20T12:00:41.719902Z",
     "start_time": "2019-03-20T12:00:41.675122Z"
    }
   },
   "outputs": [],
   "source": [
    "from sklearn.linear_model import LogisticRegression\n",
    "clf_3 = LogisticRegression(solver='lbfgs', multi_class='ovr').fit(X_train,Y_train)"
   ]
  },
  {
   "cell_type": "code",
   "execution_count": null,
   "metadata": {
    "ExecuteTime": {
     "end_time": "2019-03-20T12:00:42.308735Z",
     "start_time": "2019-03-20T12:00:42.115612Z"
    }
   },
   "outputs": [],
   "source": [
    "xx, yy = np.mgrid[x0_range[0]:x0_range[1]:.05, x1_range[0]:x1_range[1]:.05]\n",
    "X_grid = np.array([xx.flatten(),yy.flatten()]).T\n",
    "probs_grid = clf_3.predict_proba(X_grid)\n",
    "colors_grid = [\n",
    "    \"#%02x%02x%02x\" % (int(r), int(g), int(b)) for r, g ,b  in np.array(150*probs_grid,dtype='int')]"
   ]
  },
  {
   "cell_type": "code",
   "execution_count": null,
   "metadata": {
    "ExecuteTime": {
     "end_time": "2019-03-20T12:00:47.265158Z",
     "start_time": "2019-03-20T12:00:42.790745Z"
    },
    "scrolled": false
   },
   "outputs": [],
   "source": [
    "fig = plt.figure(figsize=(6,6))\n",
    "ax = fig.add_subplot(111)\n",
    "ax.set_xlim(x0_range)\n",
    "ax.set_ylim(x1_range)\n",
    "# BACKGROUND OF PROBS\n",
    "ax.scatter(X_grid[:,0], X_grid[:,1], s = 50, alpha=.2, c=colors_grid )\n",
    "# TEST\n",
    "ax.scatter(x0_test, x1_test, s = 35, alpha=1, c=colors_test ,edgecolors = 'white')\n",
    "ax.figure.canvas.draw()"
   ]
  },
  {
   "cell_type": "markdown",
   "metadata": {},
   "source": [
    "## Logistic regression (multinomial loss)"
   ]
  },
  {
   "cell_type": "code",
   "execution_count": null,
   "metadata": {
    "ExecuteTime": {
     "end_time": "2019-03-20T12:00:47.306372Z",
     "start_time": "2019-03-20T12:00:47.268500Z"
    }
   },
   "outputs": [],
   "source": [
    "from sklearn.linear_model import LogisticRegression\n",
    "clf_3 = LogisticRegression(solver='lbfgs', multi_class='multinomial').fit(X_train,Y_train)"
   ]
  },
  {
   "cell_type": "code",
   "execution_count": null,
   "metadata": {
    "ExecuteTime": {
     "end_time": "2019-03-20T12:00:47.552496Z",
     "start_time": "2019-03-20T12:00:47.308395Z"
    }
   },
   "outputs": [],
   "source": [
    "xx, yy = np.mgrid[x0_range[0]:x0_range[1]:.05, x1_range[0]:x1_range[1]:.05]\n",
    "X_grid = np.array([xx.flatten(),yy.flatten()]).T\n",
    "probs_grid = clf_3.predict_proba(X_grid)\n",
    "colors_grid = [\n",
    "    \"#%02x%02x%02x\" % (int(r), int(g), int(b)) for r, g ,b  in np.array(150*probs_grid,dtype='int')]"
   ]
  },
  {
   "cell_type": "code",
   "execution_count": null,
   "metadata": {
    "ExecuteTime": {
     "end_time": "2019-03-20T12:00:52.356826Z",
     "start_time": "2019-03-20T12:00:47.555853Z"
    },
    "scrolled": true
   },
   "outputs": [],
   "source": [
    "fig = plt.figure(figsize=(6,6))\n",
    "ax = fig.add_subplot(111)\n",
    "ax.set_xlim(x0_range)\n",
    "ax.set_ylim(x1_range)\n",
    "# BACKGROUND OF PROBS\n",
    "ax.scatter(X_grid[:,0], X_grid[:,1], s = 50, alpha=.2, c=colors_grid )\n",
    "# TEST\n",
    "ax.scatter(x0_test, x1_test, s = 35, alpha=1, c=colors_test ,edgecolors = 'white')\n",
    "ax.figure.canvas.draw()"
   ]
  },
  {
   "cell_type": "markdown",
   "metadata": {},
   "source": [
    "## Random Forest"
   ]
  },
  {
   "cell_type": "code",
   "execution_count": null,
   "metadata": {
    "ExecuteTime": {
     "end_time": "2019-03-20T12:00:52.494926Z",
     "start_time": "2019-03-20T12:00:52.359364Z"
    }
   },
   "outputs": [],
   "source": [
    "from sklearn.ensemble import RandomForestClassifier\n",
    "clf_3 = RandomForestClassifier(n_estimators=100).fit(X_train,Y_train)"
   ]
  },
  {
   "cell_type": "code",
   "execution_count": null,
   "metadata": {
    "ExecuteTime": {
     "end_time": "2019-03-20T12:00:53.026842Z",
     "start_time": "2019-03-20T12:00:52.497645Z"
    }
   },
   "outputs": [],
   "source": [
    "xx, yy = np.mgrid[x0_range[0]:x0_range[1]:.05, x1_range[0]:x1_range[1]:.05]\n",
    "X_grid = np.array([xx.flatten(),yy.flatten()]).T\n",
    "probs_grid = clf_3.predict_proba(X_grid)\n",
    "colors_grid = [\n",
    "    \"#%02x%02x%02x\" % (int(r), int(g), int(b)) for r, g ,b  in np.array(150*probs_grid,dtype='int')]"
   ]
  },
  {
   "cell_type": "code",
   "execution_count": null,
   "metadata": {
    "ExecuteTime": {
     "end_time": "2019-03-20T12:00:57.636608Z",
     "start_time": "2019-03-20T12:00:53.029235Z"
    },
    "scrolled": false
   },
   "outputs": [],
   "source": [
    "fig = plt.figure(figsize=(6,6))\n",
    "ax = fig.add_subplot(111)\n",
    "ax.set_xlim(x0_range)\n",
    "ax.set_ylim(x1_range)\n",
    "# BACKGROUND OF PROBS\n",
    "ax.scatter(X_grid[:,0], X_grid[:,1], s = 50, alpha=.2, c=colors_grid )\n",
    "# TEST\n",
    "ax.scatter(x0_test, x1_test, s = 35, alpha=1, c=colors_test ,edgecolors = 'white')\n",
    "ax.figure.canvas.draw()"
   ]
  },
  {
   "cell_type": "code",
   "execution_count": null,
   "metadata": {},
   "outputs": [],
   "source": []
  }
 ],
 "metadata": {
  "jupytext": {
   "text_representation": {
    "extension": ".py",
    "format_name": "percent",
    "format_version": "1.2",
    "jupytext_version": "1.0.1"
   }
  },
  "kernelspec": {
   "display_name": "Python 3",
   "language": "python",
   "name": "python3"
  },
  "language_info": {
   "codemirror_mode": {
    "name": "ipython",
    "version": 3
   },
   "file_extension": ".py",
   "mimetype": "text/x-python",
   "name": "python",
   "nbconvert_exporter": "python",
   "pygments_lexer": "ipython3",
   "version": "3.7.6"
  },
  "toc": {
   "base_numbering": 1,
   "nav_menu": {},
   "number_sections": true,
   "sideBar": true,
   "skip_h1_title": true,
   "title_cell": "Table of Contents",
   "title_sidebar": "Contents",
   "toc_cell": true,
   "toc_position": {},
   "toc_section_display": true,
   "toc_window_display": false
  },
  "varInspector": {
   "cols": {
    "lenName": 16,
    "lenType": 16,
    "lenVar": 40
   },
   "kernels_config": {
    "python": {
     "delete_cmd_postfix": "",
     "delete_cmd_prefix": "del ",
     "library": "var_list.py",
     "varRefreshCmd": "print(var_dic_list())"
    },
    "r": {
     "delete_cmd_postfix": ") ",
     "delete_cmd_prefix": "rm(",
     "library": "var_list.r",
     "varRefreshCmd": "cat(var_dic_list()) "
    }
   },
   "types_to_exclude": [
    "module",
    "function",
    "builtin_function_or_method",
    "instance",
    "_Feature"
   ],
   "window_display": false
  }
 },
 "nbformat": 4,
 "nbformat_minor": 2
}
